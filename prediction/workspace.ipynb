{
 "cells": [
  {
   "cell_type": "markdown",
   "metadata": {},
   "source": [
    "# FOREX Prediction"
   ]
  },
  {
   "cell_type": "code",
   "execution_count": null,
   "metadata": {},
   "outputs": [],
   "source": [
    "import requests\n",
    "import json\n",
    "\n",
    "import numpy as np\n",
    "import pandas as pd\n",
    "import tensorflow as tf"
   ]
  },
  {
   "cell_type": "markdown",
   "metadata": {},
   "source": [
    "## Data Processing"
   ]
  },
  {
   "cell_type": "markdown",
   "metadata": {},
   "source": [
    "### Raw Data Collection Using API"
   ]
  },
  {
   "cell_type": "code",
   "execution_count": null,
   "metadata": {},
   "outputs": [],
   "source": [
    "api_key = 'YknABlU4L9jZ3e7azGRzR71EHuvjxjuT' + 'null'\n",
    "\n",
    "date_of_collection = '2022-11-04'\n",
    "base_currency = 'EUR'\n",
    "\n",
    "data = []\n",
    "\n",
    "for year in range(1999, 2023):\n",
    "  s_date = f'{year}-01-01'\n",
    "  e_date = f'{year}-12-31'\n",
    "\n",
    "  response = requests.get(f'https://api.apilayer.com/exchangerates_data/timeseries?start_date={s_date}&end_date={e_date}', headers={ 'redirect': 'follow', 'apiKey':  api_key})\n",
    "  data.append(response.json())"
   ]
  },
  {
   "cell_type": "code",
   "execution_count": null,
   "metadata": {},
   "outputs": [],
   "source": [
    "with open('raw_data2.json', 'w') as f:\n",
    "  json.dump(data, f)"
   ]
  },
  {
   "cell_type": "code",
   "execution_count": null,
   "metadata": {},
   "outputs": [],
   "source": [
    "api_key = 'YknABlU4L9jZ3e7azGRzR71EHuvjxjuT' + 'null'\n",
    "\n",
    "response = requests.get(f'https://api.apilayer.com/exchangerates_data/symbols', headers={ 'redirect': 'follow', 'apiKey':  api_key})\n",
    "\n",
    "symbols_data = response.json()"
   ]
  },
  {
   "cell_type": "code",
   "execution_count": null,
   "metadata": {},
   "outputs": [],
   "source": [
    "with open('raw_symbols2.json', 'w') as f:\n",
    "  json.dump(symbols_data, f)"
   ]
  },
  {
   "cell_type": "markdown",
   "metadata": {},
   "source": [
    "### Converting to Pandas Dataframe"
   ]
  },
  {
   "cell_type": "code",
   "execution_count": null,
   "metadata": {},
   "outputs": [],
   "source": [
    "date_of_collection = '2022-11-04'\n",
    "\n",
    "with open('raw_data.json', 'r') as f1:\n",
    "  data = json.load(f1)\n",
    "with open('raw_symbols.json', 'r') as f2:\n",
    "  symbols_data = json.load(f2)"
   ]
  },
  {
   "cell_type": "code",
   "execution_count": null,
   "metadata": {},
   "outputs": [],
   "source": [
    "all_rates = dict()\n",
    "for d in data:\n",
    "  all_rates.update(d['rates'])\n",
    "\n",
    "dates = [d for d in list(all_rates.keys()) if d < date_of_collection]"
   ]
  },
  {
   "cell_type": "code",
   "execution_count": null,
   "metadata": {},
   "outputs": [],
   "source": [
    "all_symbols = symbols_data['symbols']\n",
    "symbols = list(all_symbols.keys())"
   ]
  },
  {
   "cell_type": "code",
   "execution_count": null,
   "metadata": {},
   "outputs": [],
   "source": [
    "dataset = []\n",
    "\n",
    "for date in dates:\n",
    "  row = [date]\n",
    "  for symbol in symbols:\n",
    "    row.append(all_rates[date].get(symbol, None))\n",
    "  dataset.append(row)\n"
   ]
  },
  {
   "cell_type": "code",
   "execution_count": null,
   "metadata": {},
   "outputs": [],
   "source": [
    "base_columns = ['date', *symbols]\n",
    "base_df = pd.DataFrame(np.asarray(dataset), columns=base_columns)\n",
    "base_df"
   ]
  },
  {
   "cell_type": "code",
   "execution_count": null,
   "metadata": {
    "collapsed": true
   },
   "outputs": [],
   "source": [
    "columns = ['date'] + [f'{s1}-{s2}' for s1 in symbols for s2 in symbols]\n",
    "df = base_df.drop(columns=symbols)\n",
    "\n",
    "for s1 in symbols:\n",
    "  for s2 in symbols:\n",
    "    df[f'{s1}-{s2}'] = base_df[s1] / base_df[s2]\n",
    "    print(s1, s2)"
   ]
  },
  {
   "cell_type": "code",
   "execution_count": null,
   "metadata": {},
   "outputs": [],
   "source": [
    "df"
   ]
  },
  {
   "cell_type": "code",
   "execution_count": null,
   "metadata": {},
   "outputs": [],
   "source": [
    "df.to_pickle('data.pkl')"
   ]
  },
  {
   "cell_type": "markdown",
   "metadata": {},
   "source": [
    "## Machine Learning With GRU"
   ]
  },
  {
   "cell_type": "markdown",
   "metadata": {},
   "source": [
    "### Data Preparation"
   ]
  },
  {
   "cell_type": "code",
   "execution_count": null,
   "metadata": {},
   "outputs": [],
   "source": []
  }
 ],
 "metadata": {
  "kernelspec": {
   "display_name": "Python 3 (ipykernel)",
   "language": "python",
   "name": "python3"
  },
  "language_info": {
   "codemirror_mode": {
    "name": "ipython",
    "version": 3
   },
   "file_extension": ".py",
   "mimetype": "text/x-python",
   "name": "python",
   "nbconvert_exporter": "python",
   "pygments_lexer": "ipython3",
   "version": "3.8.12"
  },
  "vscode": {
   "interpreter": {
    "hash": "f784a7bbdcb720b7f0ed6eec1f648d5a97817cc685dee135cb1c23d886423ca1"
   }
  }
 },
 "nbformat": 4,
 "nbformat_minor": 2
}
